{
 "cells": [
  {
   "cell_type": "markdown",
   "id": "40404541-21a6-4c03-8186-30fe2f3acc93",
   "metadata": {},
   "source": [
    "## Manage User Inputs:"
   ]
  },
  {
   "cell_type": "code",
   "execution_count": 1,
   "id": "cbea0004-4133-4dd6-a5b8-05872dc51b32",
   "metadata": {
    "tags": []
   },
   "outputs": [
    {
     "name": "stdout",
     "output_type": "stream",
     "text": [
      "Requirement already satisfied: pandas in /home/ec2-user/anaconda3/envs/python3/lib/python3.10/site-packages (1.5.3)\n",
      "Requirement already satisfied: python-dateutil>=2.8.1 in /home/ec2-user/anaconda3/envs/python3/lib/python3.10/site-packages (from pandas) (2.9.0)\n",
      "Requirement already satisfied: pytz>=2020.1 in /home/ec2-user/anaconda3/envs/python3/lib/python3.10/site-packages (from pandas) (2024.2)\n",
      "Requirement already satisfied: numpy>=1.21.0 in /home/ec2-user/anaconda3/envs/python3/lib/python3.10/site-packages (from pandas) (1.26.4)\n",
      "Requirement already satisfied: six>=1.5 in /home/ec2-user/anaconda3/envs/python3/lib/python3.10/site-packages (from python-dateutil>=2.8.1->pandas) (1.16.0)\n"
     ]
    }
   ],
   "source": [
    "! pip install pandas"
   ]
  },
  {
   "cell_type": "code",
   "execution_count": 32,
   "id": "3117b675-a732-4c15-8b90-e3423ad1c7e1",
   "metadata": {
    "tags": []
   },
   "outputs": [],
   "source": [
    "import pandas as pd"
   ]
  },
  {
   "cell_type": "code",
   "execution_count": 40,
   "id": "73464eb7-d5a6-4e83-96f2-9c53233f0df1",
   "metadata": {
    "tags": []
   },
   "outputs": [],
   "source": [
    "def load_travel_database(file: str):\n",
    "    travel_db = pd.read_csv(file, sep=\",\")\n",
    "    # drop first col\n",
    "    travel_db.drop(travel_db.columns[0], axis=1, inplace=True)\n",
    "    return travel_db"
   ]
  },
  {
   "cell_type": "code",
   "execution_count": 41,
   "id": "75967202-2a96-4ac4-9f58-1aff42eb7cbf",
   "metadata": {
    "tags": []
   },
   "outputs": [],
   "source": [
    "travel_db = load_travel_database(\"final_travel_dataset.csv\")"
   ]
  },
  {
   "cell_type": "code",
   "execution_count": 42,
   "id": "d4b91198-f027-4926-aa23-b6eb1930eabe",
   "metadata": {
    "tags": []
   },
   "outputs": [
    {
     "data": {
      "text/plain": [
       "array(['After 6 PM', 'Before 6 AM', '12 PM - 6 PM', '6 AM - 12 PM'],\n",
       "      dtype=object)"
      ]
     },
     "execution_count": 42,
     "metadata": {},
     "output_type": "execute_result"
    }
   ],
   "source": [
    "travel_db[\"Departure\"].unique()"
   ]
  },
  {
   "cell_type": "code",
   "execution_count": null,
   "id": "326dcbec-8efe-4d73-9020-9eb682ee5a83",
   "metadata": {},
   "outputs": [],
   "source": [
    "# Clean the database\n",
    "hour_map = {\n",
    "    \"After 6 PM\": \"6 PM - 12 AM\",\n",
    "    \"Before 6 AM\": \"12 AM - 6 AM\",\n",
    "    \"12 PM - 6 PM\": \"12 PM - 6 PM\",\n",
    "    \"6 AM - 12 PM\": \"6 AM - 12 PM\",\n",
    "}\n",
    "travel_db[\"Departure\"] = travel_db[\""
   ]
  },
  {
   "cell_type": "code",
   "execution_count": 26,
   "id": "db720d71-4293-4512-bf4e-0ff60cd5792a",
   "metadata": {
    "tags": []
   },
   "outputs": [
    {
     "name": "stdin",
     "output_type": "stream",
     "text": [
      "Enter the number of adults:  1\n",
      "Enter the number of children:  2\n",
      "Enter the origin city:  Delhi\n",
      "Enter. destination city:  Mumbai\n",
      "Enter the date of departure:  2024-10-28\n",
      "Enter your budget:  1000\n"
     ]
    }
   ],
   "source": [
    "number_of_adults = input(\"Enter the number of adults: \")\n",
    "number_of_children = input(\"Enter the number of children: \")\n",
    "source = input(\"Enter the origin city: \")\n",
    "destination = input(\"Enter. destination city: \")\n",
    "date_of_departure = input(\"Enter the date of departure: \")\n",
    "budget = input(\"Enter your budget: \")"
   ]
  },
  {
   "cell_type": "code",
   "execution_count": null,
   "id": "03473a49-123d-4f2f-a41c-51420c651c19",
   "metadata": {},
   "outputs": [],
   "source": [
    "# Filter travel_db based on input\n",
    "travel_db_subset = travel_db[\n",
    "    (travel_db[\"Source\"] == source) &\n",
    "    (travel_db[\"Destination\"] == source) &\n",
    "    (travel_db[\"Departure\"] == source) &\n",
    "    (travel_db[\"Date_of_journey\"] == source) &"
   ]
  }
 ],
 "metadata": {
  "kernelspec": {
   "display_name": "conda_python3",
   "language": "python",
   "name": "conda_python3"
  },
  "language_info": {
   "codemirror_mode": {
    "name": "ipython",
    "version": 3
   },
   "file_extension": ".py",
   "mimetype": "text/x-python",
   "name": "python",
   "nbconvert_exporter": "python",
   "pygments_lexer": "ipython3",
   "version": "3.10.15"
  }
 },
 "nbformat": 4,
 "nbformat_minor": 5
}
