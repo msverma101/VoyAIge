{
 "cells": [
  {
   "cell_type": "code",
   "execution_count": 8,
   "id": "3f179fa5",
   "metadata": {},
   "outputs": [],
   "source": [
    "# Flight Booking Usecase - Cheat Code\n",
    "\n",
    "# Import necessary libraries\n",
    "import pandas as pd\n",
    "\n",
    "# Sample travel database (to be replaced with actual travel database)\n",
    "travel_db = pd.DataFrame({\n",
    "    'Source': ['CityA', 'CityB', 'CityC', 'CityD'],\n",
    "    'Destination': ['CityB', 'CityC', 'CityD', 'CityE'],\n",
    "    'Total_stops': ['non-stop', '1-stop', '2-stop', 'non-stop'],\n",
    "    'availability': [3, 5, 2, 6],\n",
    "    'Fare': [300, 400, 500, 200],\n",
    "    'Date_of_journey': ['2024-10-30', '2024-10-30', '2024-10-30', '2024-10-30'],\n",
    "    'Departure': ['10:00', '12:00', '14:00', '16:00'],\n",
    "    'Arrival': ['12:00', '14:00', '16:00', '18:00']\n",
    "})\n",
    "\n",
    "# Define search parameters (replace with actual values)\n",
    "number_of_adults = 1\n",
    "number_of_children = 1\n",
    "source = \"CityA\"\n",
    "destination = \"CityD\"\n",
    "date_of_departure = \"2024-10-30\"\n",
    "budget = 500\n",
    "\n",
    "# Filter flights with more than one stop based on availability\n",
    "filtered_subset_travel_db = travel_db[travel_db[\"Source\"] == source]\n",
    "if (filtered_subset_travel_db.iloc[0][\"availability\"] < (number_of_adults + number_of_children)).any():\n",
    "    travel_db = travel_db[\n",
    "        (travel_db[\"Total_stops\"] == \"non-stop\") &\n",
    "        (travel_db[\"availability\"] > number_of_adults + number_of_children)\n",
    "    ]\n",
    "    leg1_df = travel_db[\n",
    "        (travel_db[\"Source\"] == source) & \n",
    "        (travel_db[\"Destination\"] != destination)\n",
    "    ]\n",
    "    leg1_df = leg1_df[leg1_df[\"Fare\"] < (budget / 1.7)]\n",
    "    leg1_df = leg1_df[leg1_df[\"Date_of_journey\"] == date_of_departure]\n",
    "    leg1_df.reset_index(inplace=True)\n",
    "\n",
    "    # Find potential connecting flights for multi-stop trips\n",
    "    for index, first_leg in leg1_df.iterrows():\n",
    "        stop_city = first_leg['Destination']\n",
    "        arrival_time = first_leg['Arrival']\n",
    "        possible_second_legs = travel_db[\n",
    "            (travel_db[\"Source\"] == stop_city) &\n",
    "            (travel_db[\"Departure\"] == arrival_time) &\n",
    "            (travel_db[\"Destination\"] == destination) &\n",
    "            (travel_db[\"Date_of_journey\"] == date_of_departure)\n",
    "        ]\n",
    "        # Print or save results for inspection\n",
    "        print(\"First Leg:\", first_leg)\n",
    "        print(\"Possible Second Legs:\")\n",
    "        print(possible_second_legs)\n",
    "\n"
   ]
  },
  {
   "cell_type": "code",
   "execution_count": 10,
   "id": "5dc9c60c",
   "metadata": {},
   "outputs": [
    {
     "name": "stdout",
     "output_type": "stream",
     "text": [
      "Retrieved Context: {'ResponseMetadata': {'RequestId': '95d66b15-308a-4281-a852-b73108bbb176', 'HTTPStatusCode': 200, 'HTTPHeaders': {'date': 'Mon, 28 Oct 2024 13:58:53 GMT', 'content-type': 'application/json', 'content-length': '23', 'connection': 'keep-alive', 'x-amzn-requestid': '95d66b15-308a-4281-a852-b73108bbb176'}, 'RetryAttempts': 0}, 'retrievalResults': []}\n"
     ]
    }
   ],
   "source": [
    "import boto3\n",
    "\n",
    "bedrock_agent_runtime_client = boto3.client('bedrock-agent-runtime', region_name='us-west-2')\n",
    "\n",
    "interests = \"culture, art, tourist spots, places to visit\"\n",
    "kb_id = \"XWDEHIHPBS\"\n",
    "retrieval_response = bedrock_agent_runtime_client.retrieve(\n",
    "   knowledgeBaseId=kb_id,\n",
    "   retrievalQuery={\n",
    "       'text': destination + \"  \" + interests\n",
    "   }\n",
    ")\n",
    "print(\"Retrieved Context:\", retrieval_response)\n"
   ]
  },
  {
   "cell_type": "code",
   "execution_count": null,
   "id": "4fa0c02e",
   "metadata": {},
   "outputs": [],
   "source": []
  }
 ],
 "metadata": {
  "kernelspec": {
   "display_name": "conda_python3",
   "language": "python",
   "name": "conda_python3"
  },
  "language_info": {
   "codemirror_mode": {
    "name": "ipython",
    "version": 3
   },
   "file_extension": ".py",
   "mimetype": "text/x-python",
   "name": "python",
   "nbconvert_exporter": "python",
   "pygments_lexer": "ipython3",
   "version": "3.10.15"
  }
 },
 "nbformat": 4,
 "nbformat_minor": 5
}
